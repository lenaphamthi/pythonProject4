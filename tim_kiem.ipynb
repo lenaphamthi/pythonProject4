{
  "nbformat": 4,
  "nbformat_minor": 0,
  "metadata": {
    "colab": {
      "name": "tim_kiem.ipynb",
      "provenance": [],
      "authorship_tag": "ABX9TyP1q2zTtEXd4rsZ6eVr1VJx",
      "include_colab_link": true
    },
    "kernelspec": {
      "name": "python3",
      "display_name": "Python 3"
    },
    "language_info": {
      "name": "python"
    }
  },
  "cells": [
    {
      "cell_type": "markdown",
      "metadata": {
        "id": "view-in-github",
        "colab_type": "text"
      },
      "source": [
        "<a href=\"https://colab.research.google.com/github/lenaphamthi/pythonProject4/blob/master/tim_kiem.ipynb\" target=\"_parent\"><img src=\"https://colab.research.google.com/assets/colab-badge.svg\" alt=\"Open In Colab\"/></a>"
      ]
    },
    {
      "cell_type": "code",
      "metadata": {
        "colab": {
          "base_uri": "https://localhost:8080/"
        },
        "id": "FpDwCoCyKTBL",
        "outputId": "66c04192-2cda-4702-ebc7-9131c65ad3c7"
      },
      "source": [
        "import random\n",
        "list1 = []\n",
        "print(\"hay nhap so a\")\n",
        "a = int(input())\n",
        "print(\"hay nhap so b\")\n",
        "b = int(input())\n",
        "n = random.randint(1,b)\n",
        "for i in range(n-1):\n",
        "  list1.append(random.randint(a,b))\n",
        "print(\"hay nhap so can tim\")\n",
        "c = int(input())\n",
        "e = 0\n",
        "for i in range(len(list1)):\n",
        "  if c == list1[i]:\n",
        "    e = e + 1\n",
        "    print(\"vi tri so\", i)\n",
        "    break\n",
        "  if e == 0:\n",
        "    print(\"khong tim thay\")\n",
        "    break"
      ],
      "execution_count": 6,
      "outputs": [
        {
          "output_type": "stream",
          "name": "stdout",
          "text": [
            "hay nhap so a\n",
            "1\n",
            "hay nhap so b\n",
            "10\n",
            "hay nhap so can tim\n",
            "5\n",
            "khong tim thay\n"
          ]
        }
      ]
    },
    {
      "cell_type": "markdown",
      "metadata": {
        "id": "o-T6p4ypMYN2"
      },
      "source": [
        "bai 2"
      ]
    },
    {
      "cell_type": "code",
      "metadata": {
        "colab": {
          "base_uri": "https://localhost:8080/"
        },
        "id": "oBGRFMFxMqcP",
        "outputId": "df495815-3f41-4811-cc4e-52bbc63536d8"
      },
      "source": [
        "import random\n",
        "list2= []\n",
        "print(\"nhap so a\")\n",
        "a = int(input())\n",
        "print(\"nhap so b\")\n",
        "b = int(input())\n",
        "n = random.randint(1,b)\n",
        "for i in range(n-1):\n",
        "  list2.append(random.randint(a,b))\n",
        "print(\"hay nhap so can tim\")\n",
        "c = int(input())\n",
        "e = 0\n",
        "for i in range(len(list2)):\n",
        "  if c == list2[i]:\n",
        "    e = e + 1\n",
        "    print(\"vi tri so\", i)\n",
        "    print(\"so lan lap\", i)\n",
        "    break\n",
        "  if e == 0:\n",
        "    print(\"khong tim thay\")\n",
        "    break"
      ],
      "execution_count": 10,
      "outputs": [
        {
          "name": "stdout",
          "output_type": "stream",
          "text": [
            "nhap so a\n",
            "1\n",
            "nhap so b\n",
            "5\n",
            "hay nhap so can tim\n",
            "4\n"
          ]
        }
      ]
    },
    {
      "cell_type": "markdown",
      "metadata": {
        "id": "O9sPLE9UNXFk"
      },
      "source": [
        "bai 4"
      ]
    },
    {
      "cell_type": "code",
      "metadata": {
        "colab": {
          "base_uri": "https://localhost:8080/"
        },
        "id": "p90jgYytNYA6",
        "outputId": "f9a2f609-06df-4f70-9441-742819089f98"
      },
      "source": [
        "import random\n",
        "list3 = []\n",
        "print(\"hay nhap so a\")\n",
        "a = int(input())\n",
        "print(\"hay nhap so b\")\n",
        "b = int(input())\n",
        "n = random.randint(1,b)\n",
        "for i in range(n-1):\n",
        "  list3.append(random.randint(a,b))\n",
        "print(\" nhap so can tim\")\n",
        "c = int(input())\n",
        "print(list3)\n",
        "for i in range(len(list3)):\n",
        "  if c == list3[i]:\n",
        "    print(\"tim thay\")\n",
        "    count = 0\n",
        "    for j in list3:\n",
        "      if(j == c):\n",
        "        count+=1\n",
        "    print(\"so lan lap: \",count)\n",
        "else:\n",
        "  print('khong tim thay')"
      ],
      "execution_count": 18,
      "outputs": [
        {
          "output_type": "stream",
          "name": "stdout",
          "text": [
            "hay nhap so a\n",
            "3\n",
            "hay nhap so b\n",
            "10\n",
            " nhap so can tim\n",
            "2\n",
            "[8]\n",
            "Không tìm thấy\n"
          ]
        }
      ]
    },
    {
      "cell_type": "markdown",
      "metadata": {
        "id": "pAswLImNO2eL"
      },
      "source": [
        "bai 3"
      ]
    },
    {
      "cell_type": "code",
      "metadata": {
        "colab": {
          "base_uri": "https://localhost:8080/"
        },
        "id": "ByMAw2i8TcrD",
        "outputId": "1fa4a631-8be8-4fc2-851e-ae211909f00b"
      },
      "source": [
        "import random\n",
        "list4 = []\n",
        "print(\"hay nhap so a\")\n",
        "a = int(input())\n",
        "print(\"hay nhap so b\")\n",
        "b = int(input())\n",
        "n = random.randint(1,b)\n",
        "for i in range(n-1):\n",
        "  list4.append(random.randint(a,b))\n",
        "print(\"hay nhap so can tim\")\n",
        "c = int(input())\n",
        "print(list4)\n",
        "for i in range(len(list4)):\n",
        "  if c == list4[i]:\n",
        "    print(\"tim thay\")\n",
        "    count = 0\n",
        "    for j in list4:\n",
        "      if(j == c):\n",
        "        count+=1\n",
        "    print(\"so lan lap: \",count)\n",
        "  "
      ],
      "execution_count": 19,
      "outputs": [
        {
          "output_type": "stream",
          "name": "stdout",
          "text": [
            "hay nhap so a\n",
            "1\n",
            "hay nhap so b\n",
            "50\n",
            "hay nhap so can tim\n",
            "5\n",
            "[9, 44, 37, 6, 23, 42, 9, 20, 21, 13, 29, 22, 12, 50, 37, 42, 24, 17, 50, 28, 1, 47, 32, 45, 41, 23, 48, 5, 43, 13, 29, 1, 46, 40, 31, 26, 10, 12, 21, 23, 10, 13, 48, 26, 4, 7, 21, 11]\n",
            "tim thay\n",
            "so lan lap:  1\n"
          ]
        }
      ]
    }
  ]
}