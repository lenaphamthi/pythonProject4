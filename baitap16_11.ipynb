{
  "nbformat": 4,
  "nbformat_minor": 0,
  "metadata": {
    "colab": {
      "name": "baitap16_11.ipynb",
      "provenance": [],
      "authorship_tag": "ABX9TyNbZ9/mr1+I6TM5RI3lzncG",
      "include_colab_link": true
    },
    "kernelspec": {
      "name": "python3",
      "display_name": "Python 3"
    },
    "language_info": {
      "name": "python"
    }
  },
  "cells": [
    {
      "cell_type": "markdown",
      "metadata": {
        "id": "view-in-github",
        "colab_type": "text"
      },
      "source": [
        "<a href=\"https://colab.research.google.com/github/lenaphamthi/pythonProject4/blob/master/baitap16_11.ipynb\" target=\"_parent\"><img src=\"https://colab.research.google.com/assets/colab-badge.svg\" alt=\"Open In Colab\"/></a>"
      ]
    },
    {
      "cell_type": "markdown",
      "metadata": {
        "id": "47Y5m8idokwc"
      },
      "source": [
        "bài 1"
      ]
    },
    {
      "cell_type": "code",
      "metadata": {
        "colab": {
          "base_uri": "https://localhost:8080/"
        },
        "id": "GjGlFZeeohSk",
        "outputId": "fc4e5f5e-1d80-4ab7-b893-7d3c1efa7c93"
      },
      "source": [
        "number = float(input(\"nhap 1 mot bat ky: \"))\n",
        "if number > 0 : \n",
        "  print(\"đây là số dương\")\n",
        "elif number == 0:\n",
        "  print(\"zero\")\n",
        "else :\n",
        "  print(\"đây là số âm\")"
      ],
      "execution_count": 69,
      "outputs": [
        {
          "output_type": "stream",
          "name": "stdout",
          "text": [
            "nhap 1 mot bat ky: 0\n",
            "zero\n"
          ]
        }
      ]
    },
    {
      "cell_type": "markdown",
      "metadata": {
        "id": "BXwmAwr7pgh0"
      },
      "source": [
        "bai 2"
      ]
    },
    {
      "cell_type": "code",
      "metadata": {
        "colab": {
          "base_uri": "https://localhost:8080/"
        },
        "id": "Z3Mv0hMipyCU",
        "outputId": "d59cfde4-0cfa-49d5-e851-1465d98cd967"
      },
      "source": [
        "num1 = float(input(\"nhap so thu nhat: \"))\n",
        "num2 = float(input(\"nhap so thu hai: \"))\n",
        "num3 = float(input(\"nhap so thu ba: \"))\n",
        "if num1 > num2 :\n",
        "  so_lon_nhat = num1\n",
        "elif num2 > num3 :\n",
        "  so_lon_nhat = num2\n",
        "else :\n",
        "  so_lon_nhat = num3\n",
        "print (\"so lon nhat trong 3 so la: \", so_lon_nhat)"
      ],
      "execution_count": 52,
      "outputs": [
        {
          "output_type": "stream",
          "name": "stdout",
          "text": [
            "nhap so thu nhat: 65.65\n",
            "nhap so thu hai: 65.45\n",
            "nhap so thu ba: 65.34\n",
            "so lon nhat trong 3 so la:  65.65\n"
          ]
        }
      ]
    },
    {
      "cell_type": "markdown",
      "metadata": {
        "id": "EmE92GZLoj60"
      },
      "source": [
        "bai 3\n"
      ]
    },
    {
      "cell_type": "code",
      "metadata": {
        "colab": {
          "base_uri": "https://localhost:8080/"
        },
        "id": "Z3bHFUForSOB",
        "outputId": "5007c9bd-9616-4137-9c65-163726611ce3"
      },
      "source": [
        "x = float(input(\"nhap 1 so: \"))\n",
        "if x == 0 :\n",
        "  print(\"zero\")\n",
        "elif x > 0:\n",
        "  print(\"positive number\")\n",
        "else :\n",
        "  print(\"negative number \")\n",
        "if abs(x) < 1 :\n",
        "  print(\"small\")\n",
        "elif abs(x) > 1000000 : \n",
        "  print(\"large\")"
      ],
      "execution_count": 68,
      "outputs": [
        {
          "output_type": "stream",
          "name": "stdout",
          "text": [
            "nhap 1 so: 4374724\n",
            "positive number\n",
            "large\n"
          ]
        }
      ]
    },
    {
      "cell_type": "markdown",
      "metadata": {
        "id": "nbPKh-hSr7Kl"
      },
      "source": [
        "bai 4"
      ]
    },
    {
      "cell_type": "code",
      "metadata": {
        "colab": {
          "base_uri": "https://localhost:8080/"
        },
        "id": "8aiF8zGpr7dF",
        "outputId": "6f3aace7-cf05-455c-a679-f093439ca774"
      },
      "source": [
        "a = int(input(\"nhap so bat ky  : \"))\n",
        "a = a%8\n",
        "a= a +1\n",
        "if a == 1 :\n",
        "  print (\"Thu hai\")\n",
        "elif a == 2:\n",
        "  print(\"Thu ba\")\n",
        "elif a == 3:\n",
        "  print(\"Thu tu\")\n",
        "elif a == 4:\n",
        "  print(\"Thu nam\")\n",
        "elif a == 5:\n",
        "  print(\"Thu sau\")\n",
        "elif a == 6:\n",
        "  print(\"Thu bay\")\n",
        "elif a == 7:\n",
        "  print(\"Chu nhat\")\n"
      ],
      "execution_count": 66,
      "outputs": [
        {
          "output_type": "stream",
          "name": "stdout",
          "text": [
            "nhap so bat ky  : 10\n",
            "Thu tu\n"
          ]
        }
      ]
    },
    {
      "cell_type": "markdown",
      "metadata": {
        "id": "MmocbHJPr7oY"
      },
      "source": [
        "bai 5"
      ]
    },
    {
      "cell_type": "code",
      "metadata": {
        "colab": {
          "base_uri": "https://localhost:8080/"
        },
        "id": "6-Z6oO5u-RPN",
        "outputId": "b0b231cb-f395-4966-9461-36e41004a103"
      },
      "source": [
        "import math\n",
        "num1 = float(input(\"Nhập số thứ nhất: \"))\n",
        "num2 = float(input(\"Nhập số thứ hai: \"))\n",
        "\n",
        "num1 = math.floor(num1*1000)\n",
        "\n",
        "num2 = math.floor(num2*1000)\n",
        "\n",
        "if (num1 == num2):\n",
        "    print(\" giống nhau\")\n",
        "else:\n",
        "    print(\" khác nhau\")"
      ],
      "execution_count": 73,
      "outputs": [
        {
          "output_type": "stream",
          "name": "stdout",
          "text": [
            "Nhập số thứ nhất: 17.1234\n",
            "Nhập số thứ hai: 17.12365\n",
            " giống nhau\n"
          ]
        }
      ]
    }
  ]
}